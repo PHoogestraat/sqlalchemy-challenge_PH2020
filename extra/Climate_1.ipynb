{
 "cells": [
  {
   "cell_type": "markdown",
   "metadata": {},
   "source": [
    "# SQLAlchemy Homework - OVERVIEW\n",
    "## Get the Data\n",
    "1. Import Dependencies\n",
    "2. Reflect Tables into SQL Alchemy ORM\n",
    "3. Data exploration.\n",
    "\n",
    "\n",
    "## Precipitation Analysis\n",
    "    1.  Design a query to retrieve the last 12 months of precipitation data.\n",
    "    2.  Select only the `date` and `prcp` values.\n",
    "    3.  Load the query results into a Pandas DataFrame and set the index to the date column.\n",
    "    4.  Sort the DataFrame values by `date`.\n",
    "    5.  Plot the results using the DataFrame `plot` method.\n",
    "    6.  Use Pandas to print the summary statistics for the precipitation data.\n",
    "    \n",
    "\n",
    "## Precipitation Analysis\n",
    "1. Design a query to calculate the total number of stations.\n",
    "2. Design a query to find the most active stations.\n",
    "  * List the stations and observation counts in descending order.\n",
    "  * Which station has the highest number of observations?\n",
    "  * Hint: You will need to use a function such as `func.min`, `func.max`, `func.avg`, and `func.count` in your queries.\n",
    "3. Design a query to retrieve the last 12 months of temperature observation data (TOBS).\n",
    "  * Filter by the station with the highest number of observations.\n",
    "  * Plot the results as a histogram with `bins=12`."
   ]
  },
  {
   "cell_type": "markdown",
   "metadata": {},
   "source": [
    "# <u>Get the Data</u>\n",
    "### Import dependencies"
   ]
  },
  {
   "cell_type": "code",
   "execution_count": 3,
   "metadata": {},
   "outputs": [],
   "source": [
    "# Dependenacies\n",
    "%matplotlib inline\n",
    "from matplotlib import style\n",
    "style.use('fivethirtyeight')\n",
    "import matplotlib.pyplot as plt\n",
    "import datetime as dt"
   ]
  },
  {
   "cell_type": "code",
   "execution_count": 4,
   "metadata": {},
   "outputs": [],
   "source": [
    "# Python SQL toolkit and Object Relational Mapper\n",
    "import sqlalchemy\n",
    "from sqlalchemy.ext.automap import automap_base\n",
    "from sqlalchemy.orm import Session\n",
    "from sqlalchemy import create_engine, inspect"
   ]
  },
  {
   "cell_type": "code",
   "execution_count": 5,
   "metadata": {},
   "outputs": [],
   "source": [
    "import numpy as np\n",
    "import pandas as pd"
   ]
  },
  {
   "cell_type": "code",
   "execution_count": 6,
   "metadata": {},
   "outputs": [],
   "source": [
    "import datetime as dt"
   ]
  },
  {
   "cell_type": "code",
   "execution_count": 7,
   "metadata": {},
   "outputs": [],
   "source": [
    "# Python SQL toolkit and Object Relational Mapper\n",
    "import sqlalchemy\n",
    "from sqlalchemy.ext.automap import automap_base\n",
    "from sqlalchemy.orm import Session\n",
    "from sqlalchemy import create_engine, func"
   ]
  },
  {
   "cell_type": "code",
   "execution_count": 8,
   "metadata": {},
   "outputs": [],
   "source": [
    "###    Formats data from a a single station\n",
    "def unpack(stat_id, num_ob, temp_max, temp_low, temp_ave):\n",
    "    print(f' Station ID:        {stat_id}')\n",
    "    print(f' # observaitons:    {num_ob}')\n",
    "    print(f' High temprature:   {temp_max} Fahrenheit')\n",
    "    print(f' Low temprature:    {temp_low} Fahrenheit')\n",
    "    print(f' Ave temprature:    {round(temp_ave,1)} Fahrenheit')\n",
    "    return"
   ]
  },
  {
   "cell_type": "code",
   "execution_count": null,
   "metadata": {},
   "outputs": [],
   "source": []
  },
  {
   "cell_type": "markdown",
   "metadata": {},
   "source": [
    "### Reflect Tables into SQLAlchemy ORM"
   ]
  },
  {
   "cell_type": "code",
   "execution_count": 9,
   "metadata": {},
   "outputs": [],
   "source": [
    "engine = create_engine(\"sqlite:///Resources/hawaii.sqlite\")"
   ]
  },
  {
   "cell_type": "code",
   "execution_count": 10,
   "metadata": {},
   "outputs": [
    {
     "data": {
      "text/plain": [
       "['measurement', 'station']"
      ]
     },
     "execution_count": 10,
     "metadata": {},
     "output_type": "execute_result"
    }
   ],
   "source": [
    "# reflect an existing database into a new model\n",
    "Base = automap_base()\n",
    "Base.prepare(engine, reflect=True)\n",
    "\n",
    "# reflect the tables\n",
    "Base.classes.keys()"
   ]
  },
  {
   "cell_type": "code",
   "execution_count": 11,
   "metadata": {},
   "outputs": [
    {
     "data": {
      "text/plain": [
       "['measurement', 'station']"
      ]
     },
     "execution_count": 11,
     "metadata": {},
     "output_type": "execute_result"
    }
   ],
   "source": [
    "# use inspector to get table names\n",
    "inspector = inspect(engine)\n",
    "table_list=inspector.get_table_names()\n",
    "table_list"
   ]
  },
  {
   "cell_type": "code",
   "execution_count": 12,
   "metadata": {},
   "outputs": [
    {
     "name": "stdout",
     "output_type": "stream",
     "text": [
      "--------------------------\n",
      "Table name:     measurement\n",
      "\n",
      "id INTEGER\n",
      "station TEXT\n",
      "date TEXT\n",
      "prcp FLOAT\n",
      "tobs FLOAT\n",
      "--------------------------\n",
      "Table name:     station\n",
      "\n",
      "id INTEGER\n",
      "station TEXT\n",
      "name TEXT\n",
      "latitude FLOAT\n",
      "longitude FLOAT\n",
      "elevation FLOAT\n",
      "--------------------------\n"
     ]
    }
   ],
   "source": [
    "# evaluation for inspecting tables\n",
    "print(\"--------------------------\")\n",
    "for table in table_list:\n",
    "    columns = inspector.get_columns(table)\n",
    "    print(f'Table name:     {table}\\n')\n",
    "    for c in columns:\n",
    "        print(c['name'],c[\"type\"])\n",
    "    print(\"--------------------------\")"
   ]
  },
  {
   "cell_type": "code",
   "execution_count": 13,
   "metadata": {},
   "outputs": [],
   "source": [
    "# Map Station class\n",
    "STAT = Base.classes.station\n",
    "\n",
    "# Map Measurement class\n",
    "MEASUR = Base.classes.measurement"
   ]
  },
  {
   "cell_type": "code",
   "execution_count": 14,
   "metadata": {},
   "outputs": [],
   "source": [
    "session = Session(bind=engine)"
   ]
  },
  {
   "cell_type": "markdown",
   "metadata": {},
   "source": [
    "<h3>DATA EXPLORATION</h3>\n",
    "In addition to starter code.\n",
    "\n",
    "<h3> <i>Goal</i> </h3>\n",
    "\n",
    "***1) Get a general sense of what the data looks like***\n",
    "\n",
    "***2) Identifuy data problems (i.i. nan)***\n",
    "\n",
    "***3) Clean up data. If neccessary***\n",
    "\n",
    "***4) Get a sense of metrics to benchmark work***"
   ]
  },
  {
   "cell_type": "code",
   "execution_count": 15,
   "metadata": {},
   "outputs": [
    {
     "data": {
      "text/html": [
       "<div>\n",
       "<style scoped>\n",
       "    .dataframe tbody tr th:only-of-type {\n",
       "        vertical-align: middle;\n",
       "    }\n",
       "\n",
       "    .dataframe tbody tr th {\n",
       "        vertical-align: top;\n",
       "    }\n",
       "\n",
       "    .dataframe thead th {\n",
       "        text-align: right;\n",
       "    }\n",
       "</style>\n",
       "<table border=\"1\" class=\"dataframe\">\n",
       "  <thead>\n",
       "    <tr style=\"text-align: right;\">\n",
       "      <th></th>\n",
       "      <th>station</th>\n",
       "      <th>name</th>\n",
       "      <th>elevation</th>\n",
       "    </tr>\n",
       "  </thead>\n",
       "  <tbody>\n",
       "    <tr>\n",
       "      <th>0</th>\n",
       "      <td>USC00519397</td>\n",
       "      <td>WAIKIKI 717.2, HI US</td>\n",
       "      <td>3.0</td>\n",
       "    </tr>\n",
       "    <tr>\n",
       "      <th>1</th>\n",
       "      <td>USC00513117</td>\n",
       "      <td>KANEOHE 838.1, HI US</td>\n",
       "      <td>14.6</td>\n",
       "    </tr>\n",
       "    <tr>\n",
       "      <th>2</th>\n",
       "      <td>USC00514830</td>\n",
       "      <td>KUALOA RANCH HEADQUARTERS 886.9, HI US</td>\n",
       "      <td>7.0</td>\n",
       "    </tr>\n",
       "    <tr>\n",
       "      <th>3</th>\n",
       "      <td>USC00517948</td>\n",
       "      <td>PEARL CITY, HI US</td>\n",
       "      <td>11.9</td>\n",
       "    </tr>\n",
       "    <tr>\n",
       "      <th>4</th>\n",
       "      <td>USC00518838</td>\n",
       "      <td>UPPER WAHIAWA 874.3, HI US</td>\n",
       "      <td>306.6</td>\n",
       "    </tr>\n",
       "    <tr>\n",
       "      <th>5</th>\n",
       "      <td>USC00519523</td>\n",
       "      <td>WAIMANALO EXPERIMENTAL FARM, HI US</td>\n",
       "      <td>19.5</td>\n",
       "    </tr>\n",
       "    <tr>\n",
       "      <th>6</th>\n",
       "      <td>USC00519281</td>\n",
       "      <td>WAIHEE 837.5, HI US</td>\n",
       "      <td>32.9</td>\n",
       "    </tr>\n",
       "    <tr>\n",
       "      <th>7</th>\n",
       "      <td>USC00511918</td>\n",
       "      <td>HONOLULU OBSERVATORY 702.2, HI US</td>\n",
       "      <td>0.9</td>\n",
       "    </tr>\n",
       "    <tr>\n",
       "      <th>8</th>\n",
       "      <td>USC00516128</td>\n",
       "      <td>MANOA LYON ARBO 785.2, HI US</td>\n",
       "      <td>152.4</td>\n",
       "    </tr>\n",
       "  </tbody>\n",
       "</table>\n",
       "</div>"
      ],
      "text/plain": [
       "       station                                    name  elevation\n",
       "0  USC00519397                    WAIKIKI 717.2, HI US        3.0\n",
       "1  USC00513117                    KANEOHE 838.1, HI US       14.6\n",
       "2  USC00514830  KUALOA RANCH HEADQUARTERS 886.9, HI US        7.0\n",
       "3  USC00517948                       PEARL CITY, HI US       11.9\n",
       "4  USC00518838              UPPER WAHIAWA 874.3, HI US      306.6\n",
       "5  USC00519523      WAIMANALO EXPERIMENTAL FARM, HI US       19.5\n",
       "6  USC00519281                     WAIHEE 837.5, HI US       32.9\n",
       "7  USC00511918       HONOLULU OBSERVATORY 702.2, HI US        0.9\n",
       "8  USC00516128            MANOA LYON ARBO 785.2, HI US      152.4"
      ]
     },
     "execution_count": 15,
     "metadata": {},
     "output_type": "execute_result"
    }
   ],
   "source": [
    "# Exploring data set \n",
    "station_id_data = session.query(STAT.station, STAT.name, STAT.elevation).all()\n",
    "station_id_df = pd.DataFrame(station_id_data)\n",
    "station_id_df"
   ]
  },
  {
   "cell_type": "code",
   "execution_count": 16,
   "metadata": {},
   "outputs": [
    {
     "name": "stdout",
     "output_type": "stream",
     "text": [
      "Date to star query:                 2016-08-23\n",
      "Last date of observable data:       ('2017-08-23',)\n"
     ]
    }
   ],
   "source": [
    "# Exploring dates \n",
    "# Finding last date\n",
    "last_day = session.query(MEASUR.date).order_by(MEASUR.date.desc()).first()\n",
    "\n",
    "###########           Dates calculations                ############################\n",
    "# Query for the Dow closing price for `CSCO` 1 week before `2011-04-08` using the datetime library\n",
    "\n",
    "query_date = dt.date(2017, 8, 23) - dt.timedelta(days=365)\n",
    "print(f'Date to star query:                 {query_date}')\n",
    "print(f'Last date of observable data:       {last_day}')"
   ]
  },
  {
   "cell_type": "code",
   "execution_count": 17,
   "metadata": {},
   "outputs": [
    {
     "name": "stdout",
     "output_type": "stream",
     "text": [
      "Number of Stations (table s): 9\n",
      "Number of Stations (table m): 19550\n",
      "Number of Dates: 19550\n",
      "Number of Preciptation observations 19550\n"
     ]
    }
   ],
   "source": [
    "# Exploring Data set RAW DATA there are NAN\n",
    "date_count =  session.query(MEASUR.date).count()\n",
    "station_countS= session.query(STAT.station).count()\n",
    "pecip_count = session.query(MEASUR.prcp).count()\n",
    "station_countM= session.query(MEASUR.station).count()\n",
    "\n",
    "print(f'Number of Stations (table s): {station_countS}\\nNumber of Stations (table m): {station_countM}\\nNumber of Dates: {date_count}\\nNumber of Preciptation observations {pecip_count}')"
   ]
  },
  {
   "cell_type": "code",
   "execution_count": 18,
   "metadata": {},
   "outputs": [
    {
     "data": {
      "text/plain": [
       "2223"
      ]
     },
     "execution_count": 18,
     "metadata": {},
     "output_type": "execute_result"
    }
   ],
   "source": [
    "#    idnetifiy the number of observations of precipitation data for the last 12 months. Does incluce NAN\n",
    "precip_12months = session.query(MEASUR).\\\n",
    "    filter(MEASUR.date > query_date).count()\n",
    "precip_12months"
   ]
  },
  {
   "cell_type": "code",
   "execution_count": 19,
   "metadata": {},
   "outputs": [
    {
     "data": {
      "text/html": [
       "<div>\n",
       "<style scoped>\n",
       "    .dataframe tbody tr th:only-of-type {\n",
       "        vertical-align: middle;\n",
       "    }\n",
       "\n",
       "    .dataframe tbody tr th {\n",
       "        vertical-align: top;\n",
       "    }\n",
       "\n",
       "    .dataframe thead th {\n",
       "        text-align: right;\n",
       "    }\n",
       "</style>\n",
       "<table border=\"1\" class=\"dataframe\">\n",
       "  <thead>\n",
       "    <tr style=\"text-align: right;\">\n",
       "      <th></th>\n",
       "      <th>name</th>\n",
       "      <th>station</th>\n",
       "      <th>station</th>\n",
       "      <th>tobs</th>\n",
       "      <th>prcp</th>\n",
       "      <th>date</th>\n",
       "      <th>latitude</th>\n",
       "      <th>longitude</th>\n",
       "      <th>elevation</th>\n",
       "    </tr>\n",
       "  </thead>\n",
       "  <tbody>\n",
       "    <tr>\n",
       "      <th>0</th>\n",
       "      <td>WAIKIKI 717.2, HI US</td>\n",
       "      <td>USC00519397</td>\n",
       "      <td>USC00519397</td>\n",
       "      <td>65.0</td>\n",
       "      <td>0.08</td>\n",
       "      <td>2010-01-01</td>\n",
       "      <td>21.2716</td>\n",
       "      <td>-157.8168</td>\n",
       "      <td>3.0</td>\n",
       "    </tr>\n",
       "    <tr>\n",
       "      <th>1</th>\n",
       "      <td>WAIKIKI 717.2, HI US</td>\n",
       "      <td>USC00519397</td>\n",
       "      <td>USC00519397</td>\n",
       "      <td>63.0</td>\n",
       "      <td>0.00</td>\n",
       "      <td>2010-01-02</td>\n",
       "      <td>21.2716</td>\n",
       "      <td>-157.8168</td>\n",
       "      <td>3.0</td>\n",
       "    </tr>\n",
       "    <tr>\n",
       "      <th>2</th>\n",
       "      <td>WAIKIKI 717.2, HI US</td>\n",
       "      <td>USC00519397</td>\n",
       "      <td>USC00519397</td>\n",
       "      <td>74.0</td>\n",
       "      <td>0.00</td>\n",
       "      <td>2010-01-03</td>\n",
       "      <td>21.2716</td>\n",
       "      <td>-157.8168</td>\n",
       "      <td>3.0</td>\n",
       "    </tr>\n",
       "    <tr>\n",
       "      <th>3</th>\n",
       "      <td>WAIKIKI 717.2, HI US</td>\n",
       "      <td>USC00519397</td>\n",
       "      <td>USC00519397</td>\n",
       "      <td>76.0</td>\n",
       "      <td>0.00</td>\n",
       "      <td>2010-01-04</td>\n",
       "      <td>21.2716</td>\n",
       "      <td>-157.8168</td>\n",
       "      <td>3.0</td>\n",
       "    </tr>\n",
       "    <tr>\n",
       "      <th>5</th>\n",
       "      <td>WAIKIKI 717.2, HI US</td>\n",
       "      <td>USC00519397</td>\n",
       "      <td>USC00519397</td>\n",
       "      <td>70.0</td>\n",
       "      <td>0.06</td>\n",
       "      <td>2010-01-07</td>\n",
       "      <td>21.2716</td>\n",
       "      <td>-157.8168</td>\n",
       "      <td>3.0</td>\n",
       "    </tr>\n",
       "    <tr>\n",
       "      <th>...</th>\n",
       "      <td>...</td>\n",
       "      <td>...</td>\n",
       "      <td>...</td>\n",
       "      <td>...</td>\n",
       "      <td>...</td>\n",
       "      <td>...</td>\n",
       "      <td>...</td>\n",
       "      <td>...</td>\n",
       "      <td>...</td>\n",
       "    </tr>\n",
       "    <tr>\n",
       "      <th>175943</th>\n",
       "      <td>MANOA LYON ARBO 785.2, HI US</td>\n",
       "      <td>USC00516128</td>\n",
       "      <td>USC00516128</td>\n",
       "      <td>72.0</td>\n",
       "      <td>0.13</td>\n",
       "      <td>2017-08-17</td>\n",
       "      <td>21.3331</td>\n",
       "      <td>-157.8025</td>\n",
       "      <td>152.4</td>\n",
       "    </tr>\n",
       "    <tr>\n",
       "      <th>175945</th>\n",
       "      <td>MANOA LYON ARBO 785.2, HI US</td>\n",
       "      <td>USC00516128</td>\n",
       "      <td>USC00516128</td>\n",
       "      <td>71.0</td>\n",
       "      <td>0.09</td>\n",
       "      <td>2017-08-19</td>\n",
       "      <td>21.3331</td>\n",
       "      <td>-157.8025</td>\n",
       "      <td>152.4</td>\n",
       "    </tr>\n",
       "    <tr>\n",
       "      <th>175947</th>\n",
       "      <td>MANOA LYON ARBO 785.2, HI US</td>\n",
       "      <td>USC00516128</td>\n",
       "      <td>USC00516128</td>\n",
       "      <td>76.0</td>\n",
       "      <td>0.56</td>\n",
       "      <td>2017-08-21</td>\n",
       "      <td>21.3331</td>\n",
       "      <td>-157.8025</td>\n",
       "      <td>152.4</td>\n",
       "    </tr>\n",
       "    <tr>\n",
       "      <th>175948</th>\n",
       "      <td>MANOA LYON ARBO 785.2, HI US</td>\n",
       "      <td>USC00516128</td>\n",
       "      <td>USC00516128</td>\n",
       "      <td>76.0</td>\n",
       "      <td>0.50</td>\n",
       "      <td>2017-08-22</td>\n",
       "      <td>21.3331</td>\n",
       "      <td>-157.8025</td>\n",
       "      <td>152.4</td>\n",
       "    </tr>\n",
       "    <tr>\n",
       "      <th>175949</th>\n",
       "      <td>MANOA LYON ARBO 785.2, HI US</td>\n",
       "      <td>USC00516128</td>\n",
       "      <td>USC00516128</td>\n",
       "      <td>76.0</td>\n",
       "      <td>0.45</td>\n",
       "      <td>2017-08-23</td>\n",
       "      <td>21.3331</td>\n",
       "      <td>-157.8025</td>\n",
       "      <td>152.4</td>\n",
       "    </tr>\n",
       "  </tbody>\n",
       "</table>\n",
       "<p>162927 rows × 9 columns</p>\n",
       "</div>"
      ],
      "text/plain": [
       "                                name      station      station  tobs  prcp  \\\n",
       "0               WAIKIKI 717.2, HI US  USC00519397  USC00519397  65.0  0.08   \n",
       "1               WAIKIKI 717.2, HI US  USC00519397  USC00519397  63.0  0.00   \n",
       "2               WAIKIKI 717.2, HI US  USC00519397  USC00519397  74.0  0.00   \n",
       "3               WAIKIKI 717.2, HI US  USC00519397  USC00519397  76.0  0.00   \n",
       "5               WAIKIKI 717.2, HI US  USC00519397  USC00519397  70.0  0.06   \n",
       "...                              ...          ...          ...   ...   ...   \n",
       "175943  MANOA LYON ARBO 785.2, HI US  USC00516128  USC00516128  72.0  0.13   \n",
       "175945  MANOA LYON ARBO 785.2, HI US  USC00516128  USC00516128  71.0  0.09   \n",
       "175947  MANOA LYON ARBO 785.2, HI US  USC00516128  USC00516128  76.0  0.56   \n",
       "175948  MANOA LYON ARBO 785.2, HI US  USC00516128  USC00516128  76.0  0.50   \n",
       "175949  MANOA LYON ARBO 785.2, HI US  USC00516128  USC00516128  76.0  0.45   \n",
       "\n",
       "              date  latitude  longitude  elevation  \n",
       "0       2010-01-01   21.2716  -157.8168        3.0  \n",
       "1       2010-01-02   21.2716  -157.8168        3.0  \n",
       "2       2010-01-03   21.2716  -157.8168        3.0  \n",
       "3       2010-01-04   21.2716  -157.8168        3.0  \n",
       "5       2010-01-07   21.2716  -157.8168        3.0  \n",
       "...            ...       ...        ...        ...  \n",
       "175943  2017-08-17   21.3331  -157.8025      152.4  \n",
       "175945  2017-08-19   21.3331  -157.8025      152.4  \n",
       "175947  2017-08-21   21.3331  -157.8025      152.4  \n",
       "175948  2017-08-22   21.3331  -157.8025      152.4  \n",
       "175949  2017-08-23   21.3331  -157.8025      152.4  \n",
       "\n",
       "[162927 rows x 9 columns]"
      ]
     },
     "execution_count": 19,
     "metadata": {},
     "output_type": "execute_result"
    }
   ],
   "source": [
    "###############################################################\n",
    "###############################################################\n",
    "########             All DATA\n",
    "# GET a sense of the data by making a compoist dataframe  \n",
    "# Build a compoist dataframe with crtical info\n",
    "# get rid of na\n",
    "core_info = session.query(STAT.name, STAT.station, MEASUR.station, MEASUR.tobs, \n",
    "                          MEASUR.prcp,MEASUR.date, STAT.latitude , \n",
    "                          STAT.longitude, STAT.elevation).all()\n",
    "core_last_year_stats_df = pd.DataFrame(core_info).dropna()\n",
    "core_last_year_stats_df"
   ]
  },
  {
   "cell_type": "markdown",
   "metadata": {},
   "source": [
    "# <u>Precipitation Analysis</u>"
   ]
  },
  {
   "cell_type": "code",
   "execution_count": 20,
   "metadata": {},
   "outputs": [],
   "source": [
    "#############           Objectives from starter code\n",
    "# Design a query to retrieve the last 12 months of precipitation data and plot the results\n",
    "# Calculate the date 1 year ago from the last data point in the database\n",
    "# Perform a query to retrieve the data and precipitation scores\n",
    "# Save the query results as a Pandas DataFrame and set the index to the date column\n",
    "# Sort the dataframe by date\n",
    "# Use Pandas Plotting with Matplotlib to plot the data\n"
   ]
  },
  {
   "cell_type": "code",
   "execution_count": 33,
   "metadata": {},
   "outputs": [
    {
     "name": "stdout",
     "output_type": "stream",
     "text": [
      "Last day of the datas set is: ('2017-08-23',)\n",
      "Cleaned up data effort 1:     2017-08-23\n",
      "Cleaned up data effort 2:     ['2017', '08', '23']\n",
      "Cleaned up data effort 3:     2017,08,23\n"
     ]
    }
   ],
   "source": [
    "###########           Dates calculations                ############################\n",
    "# Final goal: Calculate the date 1 year ago from the last data point in the database\n",
    "\n",
    "\n",
    "# First identifiy last date in data set\n",
    "last_day = session.query(MEASUR.date).order_by(MEASUR.date.desc()).first()\n",
    "last_day\n",
    "\n",
    "print(f\"Last day of the datas set is: {last_day}\")\n",
    "\n",
    "last_day_dalc = ','.join(last_day)\n",
    "print(f\"Cleaned up data effort 1:     {last_day_dalc}\")\n",
    "\n",
    "last_day_x = last_day_dalc.split('-')\n",
    "print(f\"Cleaned up data effort 2:     {last_day_x}\")\n",
    "\n",
    "last_day_x = ','.join(last_day_x)\n",
    "print(f\"Cleaned up data effort 3:     {last_day_x}\")\n",
    "# can't get rid of the zero\n",
    "# try drop \"0\" next"
   ]
  },
  {
   "cell_type": "code",
   "execution_count": 35,
   "metadata": {},
   "outputs": [
    {
     "name": "stdout",
     "output_type": "stream",
     "text": [
      "Last day of data set:   2017-08-23\n",
      "Start of data set:      2016-08-23\n"
     ]
    }
   ],
   "source": [
    "###########           Dates calculations  final goal              ############################\n",
    "# Query for last day and first day on new data set\n",
    "query_date = dt.date(2017, 8, 23) - dt.timedelta(days=365)\n",
    "print(f\"Last day of data set:   {last_day_dalc}\")\n",
    "print(f\"Start of data set:      {query_date}\")"
   ]
  },
  {
   "cell_type": "code",
   "execution_count": 36,
   "metadata": {},
   "outputs": [],
   "source": [
    "# Design a query to retrieve the last 12 months of precipitation data and plot the results\n",
    "last_year_precip = session.query(MEASUR.date, MEASUR.prcp).\\\n",
    "    filter(MEASUR.date > query_date).all()\n",
    "# Hashed out for clarity\n",
    "#last_year_precip"
   ]
  },
  {
   "cell_type": "code",
   "execution_count": null,
   "metadata": {},
   "outputs": [],
   "source": []
  },
  {
   "cell_type": "code",
   "execution_count": null,
   "metadata": {},
   "outputs": [],
   "source": []
  },
  {
   "cell_type": "code",
   "execution_count": 37,
   "metadata": {},
   "outputs": [
    {
     "data": {
      "text/html": [
       "<div>\n",
       "<style scoped>\n",
       "    .dataframe tbody tr th:only-of-type {\n",
       "        vertical-align: middle;\n",
       "    }\n",
       "\n",
       "    .dataframe tbody tr th {\n",
       "        vertical-align: top;\n",
       "    }\n",
       "\n",
       "    .dataframe thead th {\n",
       "        text-align: right;\n",
       "    }\n",
       "</style>\n",
       "<table border=\"1\" class=\"dataframe\">\n",
       "  <thead>\n",
       "    <tr style=\"text-align: right;\">\n",
       "      <th></th>\n",
       "      <th>prcp</th>\n",
       "    </tr>\n",
       "    <tr>\n",
       "      <th>date</th>\n",
       "      <th></th>\n",
       "    </tr>\n",
       "  </thead>\n",
       "  <tbody>\n",
       "    <tr>\n",
       "      <th>2016-08-24</th>\n",
       "      <td>0.08</td>\n",
       "    </tr>\n",
       "    <tr>\n",
       "      <th>2016-08-24</th>\n",
       "      <td>2.15</td>\n",
       "    </tr>\n",
       "    <tr>\n",
       "      <th>2016-08-24</th>\n",
       "      <td>2.28</td>\n",
       "    </tr>\n",
       "    <tr>\n",
       "      <th>2016-08-24</th>\n",
       "      <td>2.15</td>\n",
       "    </tr>\n",
       "    <tr>\n",
       "      <th>2016-08-24</th>\n",
       "      <td>1.45</td>\n",
       "    </tr>\n",
       "    <tr>\n",
       "      <th>...</th>\n",
       "      <td>...</td>\n",
       "    </tr>\n",
       "    <tr>\n",
       "      <th>2017-08-22</th>\n",
       "      <td>0.00</td>\n",
       "    </tr>\n",
       "    <tr>\n",
       "      <th>2017-08-23</th>\n",
       "      <td>0.08</td>\n",
       "    </tr>\n",
       "    <tr>\n",
       "      <th>2017-08-23</th>\n",
       "      <td>0.00</td>\n",
       "    </tr>\n",
       "    <tr>\n",
       "      <th>2017-08-23</th>\n",
       "      <td>0.00</td>\n",
       "    </tr>\n",
       "    <tr>\n",
       "      <th>2017-08-23</th>\n",
       "      <td>0.45</td>\n",
       "    </tr>\n",
       "  </tbody>\n",
       "</table>\n",
       "<p>2015 rows × 1 columns</p>\n",
       "</div>"
      ],
      "text/plain": [
       "            prcp\n",
       "date            \n",
       "2016-08-24  0.08\n",
       "2016-08-24  2.15\n",
       "2016-08-24  2.28\n",
       "2016-08-24  2.15\n",
       "2016-08-24  1.45\n",
       "...          ...\n",
       "2017-08-22  0.00\n",
       "2017-08-23  0.08\n",
       "2017-08-23  0.00\n",
       "2017-08-23  0.00\n",
       "2017-08-23  0.45\n",
       "\n",
       "[2015 rows x 1 columns]"
      ]
     },
     "execution_count": 37,
     "metadata": {},
     "output_type": "execute_result"
    }
   ],
   "source": [
    "# Save the query results as a Pandas DataFrame and set the index to the date column\n",
    "last_year_precip_df = pd.DataFrame(last_year_precip)\n",
    "# Sort the dataframe by date\n",
    "last_year_precip_df = last_year_precip_df.sort_values('date')\n",
    "last_year_precip_df = last_year_precip_df.set_index(\"date\")\n",
    "# removo na\n",
    "last_year_precip_df = last_year_precip_df.dropna()\n",
    "last_year_precip_df"
   ]
  },
  {
   "cell_type": "code",
   "execution_count": 38,
   "metadata": {},
   "outputs": [
    {
     "data": {
      "image/png": "[encoded data removed]",
      "text/plain": [
       "<Figure size 432x288 with 1 Axes>"
      ]
     },
     "metadata": {},
     "output_type": "display_data"
    }
   ],
   "source": [
    "df = last_year_precip_df\n",
    "df.plot()\n",
    "plt.xticks(rotation=90, horizontalalignment=\"center\")\n",
    "plt.xlabel(\"Date\")\n",
    "\n",
    "\n",
    "plt.ylabel(\"Inches\")\n",
    "plt.legend([\"Precipitation\"])\n",
    "#plt.tight_layout()\n",
    "plt.show()"
   ]
  },
  {
   "cell_type": "code",
   "execution_count": 39,
   "metadata": {},
   "outputs": [
    {
     "data": {
      "text/html": [
       "<div>\n",
       "<style scoped>\n",
       "    .dataframe tbody tr th:only-of-type {\n",
       "        vertical-align: middle;\n",
       "    }\n",
       "\n",
       "    .dataframe tbody tr th {\n",
       "        vertical-align: top;\n",
       "    }\n",
       "\n",
       "    .dataframe thead th {\n",
       "        text-align: right;\n",
       "    }\n",
       "</style>\n",
       "<table border=\"1\" class=\"dataframe\">\n",
       "  <thead>\n",
       "    <tr style=\"text-align: right;\">\n",
       "      <th></th>\n",
       "      <th>prcp</th>\n",
       "    </tr>\n",
       "  </thead>\n",
       "  <tbody>\n",
       "    <tr>\n",
       "      <th>count</th>\n",
       "      <td>2015.000000</td>\n",
       "    </tr>\n",
       "    <tr>\n",
       "      <th>mean</th>\n",
       "      <td>0.176462</td>\n",
       "    </tr>\n",
       "    <tr>\n",
       "      <th>std</th>\n",
       "      <td>0.460288</td>\n",
       "    </tr>\n",
       "    <tr>\n",
       "      <th>min</th>\n",
       "      <td>0.000000</td>\n",
       "    </tr>\n",
       "    <tr>\n",
       "      <th>25%</th>\n",
       "      <td>0.000000</td>\n",
       "    </tr>\n",
       "    <tr>\n",
       "      <th>50%</th>\n",
       "      <td>0.020000</td>\n",
       "    </tr>\n",
       "    <tr>\n",
       "      <th>75%</th>\n",
       "      <td>0.130000</td>\n",
       "    </tr>\n",
       "    <tr>\n",
       "      <th>max</th>\n",
       "      <td>6.700000</td>\n",
       "    </tr>\n",
       "  </tbody>\n",
       "</table>\n",
       "</div>"
      ],
      "text/plain": [
       "              prcp\n",
       "count  2015.000000\n",
       "mean      0.176462\n",
       "std       0.460288\n",
       "min       0.000000\n",
       "25%       0.000000\n",
       "50%       0.020000\n",
       "75%       0.130000\n",
       "max       6.700000"
      ]
     },
     "execution_count": 39,
     "metadata": {},
     "output_type": "execute_result"
    }
   ],
   "source": [
    "# Use Pandas to calcualte the summary statistics for the precipitation data\n",
    "stats_2017df = last_year_precip_df.describe()\n",
    "stats_2017df"
   ]
  },
  {
   "cell_type": "code",
   "execution_count": 40,
   "metadata": {},
   "outputs": [
    {
     "name": "stdout",
     "output_type": "stream",
     "text": [
      "Rainfall data for 2017-08 to 2016-08\n",
      "**************************************\n",
      "Average Rainfall:              0.176\n",
      "\n",
      "Median Rainfall:               0.02\n",
      "\n",
      "STD Rainfall:                  0.46\n",
      "\n",
      "MAX Rainfall:                  6.7\n",
      "\n",
      "MIN Rainfall:                  0.0\n",
      "\n",
      "Observation Count Rainfall:    2015\n",
      "\n"
     ]
    }
   ],
   "source": [
    "# Use Pandas to calcualte the summary statistics for the precipitation data\n",
    "\n",
    "pmean = round(last_year_precip_df['prcp'].mean(),3)\n",
    "pmedian = round(last_year_precip_df['prcp'].median(),3)\n",
    "\n",
    "\n",
    "pstd = round(last_year_precip_df['prcp'].std(),3)\n",
    "pmax = round(last_year_precip_df['prcp'].max(),3)\n",
    "pmin =round(last_year_precip_df['prcp'].min(),3)\n",
    "count = last_year_precip_df['prcp'].count()\n",
    "\n",
    "pmode =last_year_precip_df['prcp'].mode()\n",
    "\n",
    "print(f'Rainfall data for 2017-08 to 2016-08')\n",
    "print(f\"**************************************\")\n",
    "print(f'Average Rainfall:              {pmean}\\n')\n",
    "print(f'Median Rainfall:               {pmedian}\\n')\n",
    "print(f'STD Rainfall:                  {pstd}\\n')\n",
    "print(f'MAX Rainfall:                  {pmax}\\n')\n",
    "print(f'MIN Rainfall:                  {pmin}\\n')\n",
    "print(f'Observation Count Rainfall:    {count}\\n')"
   ]
  },
  {
   "cell_type": "markdown",
   "metadata": {},
   "source": [
    "# <u>Station Analysis</u>"
   ]
  },
  {
   "cell_type": "code",
   "execution_count": 41,
   "metadata": {},
   "outputs": [
    {
     "name": "stdout",
     "output_type": "stream",
     "text": [
      " Number of weather stations on Hawii 9\n"
     ]
    },
    {
     "data": {
      "text/html": [
       "<div>\n",
       "<style scoped>\n",
       "    .dataframe tbody tr th:only-of-type {\n",
       "        vertical-align: middle;\n",
       "    }\n",
       "\n",
       "    .dataframe tbody tr th {\n",
       "        vertical-align: top;\n",
       "    }\n",
       "\n",
       "    .dataframe thead th {\n",
       "        text-align: right;\n",
       "    }\n",
       "</style>\n",
       "<table border=\"1\" class=\"dataframe\">\n",
       "  <thead>\n",
       "    <tr style=\"text-align: right;\">\n",
       "      <th></th>\n",
       "      <th>station</th>\n",
       "      <th>name</th>\n",
       "      <th>elevation</th>\n",
       "    </tr>\n",
       "  </thead>\n",
       "  <tbody>\n",
       "    <tr>\n",
       "      <th>0</th>\n",
       "      <td>USC00519397</td>\n",
       "      <td>WAIKIKI 717.2, HI US</td>\n",
       "      <td>3.0</td>\n",
       "    </tr>\n",
       "    <tr>\n",
       "      <th>1</th>\n",
       "      <td>USC00513117</td>\n",
       "      <td>KANEOHE 838.1, HI US</td>\n",
       "      <td>14.6</td>\n",
       "    </tr>\n",
       "    <tr>\n",
       "      <th>2</th>\n",
       "      <td>USC00514830</td>\n",
       "      <td>KUALOA RANCH HEADQUARTERS 886.9, HI US</td>\n",
       "      <td>7.0</td>\n",
       "    </tr>\n",
       "    <tr>\n",
       "      <th>3</th>\n",
       "      <td>USC00517948</td>\n",
       "      <td>PEARL CITY, HI US</td>\n",
       "      <td>11.9</td>\n",
       "    </tr>\n",
       "    <tr>\n",
       "      <th>4</th>\n",
       "      <td>USC00518838</td>\n",
       "      <td>UPPER WAHIAWA 874.3, HI US</td>\n",
       "      <td>306.6</td>\n",
       "    </tr>\n",
       "    <tr>\n",
       "      <th>5</th>\n",
       "      <td>USC00519523</td>\n",
       "      <td>WAIMANALO EXPERIMENTAL FARM, HI US</td>\n",
       "      <td>19.5</td>\n",
       "    </tr>\n",
       "    <tr>\n",
       "      <th>6</th>\n",
       "      <td>USC00519281</td>\n",
       "      <td>WAIHEE 837.5, HI US</td>\n",
       "      <td>32.9</td>\n",
       "    </tr>\n",
       "    <tr>\n",
       "      <th>7</th>\n",
       "      <td>USC00511918</td>\n",
       "      <td>HONOLULU OBSERVATORY 702.2, HI US</td>\n",
       "      <td>0.9</td>\n",
       "    </tr>\n",
       "    <tr>\n",
       "      <th>8</th>\n",
       "      <td>USC00516128</td>\n",
       "      <td>MANOA LYON ARBO 785.2, HI US</td>\n",
       "      <td>152.4</td>\n",
       "    </tr>\n",
       "  </tbody>\n",
       "</table>\n",
       "</div>"
      ],
      "text/plain": [
       "       station                                    name  elevation\n",
       "0  USC00519397                    WAIKIKI 717.2, HI US        3.0\n",
       "1  USC00513117                    KANEOHE 838.1, HI US       14.6\n",
       "2  USC00514830  KUALOA RANCH HEADQUARTERS 886.9, HI US        7.0\n",
       "3  USC00517948                       PEARL CITY, HI US       11.9\n",
       "4  USC00518838              UPPER WAHIAWA 874.3, HI US      306.6\n",
       "5  USC00519523      WAIMANALO EXPERIMENTAL FARM, HI US       19.5\n",
       "6  USC00519281                     WAIHEE 837.5, HI US       32.9\n",
       "7  USC00511918       HONOLULU OBSERVATORY 702.2, HI US        0.9\n",
       "8  USC00516128            MANOA LYON ARBO 785.2, HI US      152.4"
      ]
     },
     "execution_count": 41,
     "metadata": {},
     "output_type": "execute_result"
    }
   ],
   "source": [
    "# Design a query to show how many stations are available in this dataset?\n",
    "station_count =  session.query(STAT.name).count()\n",
    "station_names = session.query(STAT.name).all()\n",
    "station_identification = session.query(STAT.station).all()\n",
    "\n",
    "# was performed previoulsy\n",
    "print(f' Number of weather stations on Hawii {station_count}')\n",
    "station_id_df"
   ]
  },
  {
   "cell_type": "code",
   "execution_count": 42,
   "metadata": {},
   "outputs": [
    {
     "data": {
      "text/plain": [
       "[('USC00519397', 2685, 2724),\n",
       " ('USC00511918', 1932, 1979),\n",
       " ('USC00513117', 2696, 2709),\n",
       " ('USC00514830', 1937, 2202),\n",
       " ('USC00519281', 2772, 2772),\n",
       " ('USC00518838', 342, 511),\n",
       " ('USC00516128', 2484, 2612),\n",
       " ('USC00517948', 683, 1372),\n",
       " ('USC00519523', 2572, 2669)]"
      ]
     },
     "execution_count": 42,
     "metadata": {},
     "output_type": "execute_result"
    }
   ],
   "source": [
    "# What are the most active stations? (i.e. what stations have the most rows)?\n",
    "# List the stations and the counts in descending order.\n",
    "\n",
    "###############################################################\n",
    "########  comparing precipitation vrs temprature\n",
    "########   A quick loook\n",
    "\n",
    "dat = [MEASUR.station, \n",
    "       func.count(MEASUR.prcp), \n",
    "       func.count(MEASUR.tobs)] \n",
    "\n",
    "obs_counts = session.query(*dat).\\\n",
    "    group_by(MEASUR.station).\\\n",
    "    order_by(MEASUR.tobs).all()\n",
    "obs_counts\n",
    "######### Temprautre has more observations\n",
    "########## precipitation has nan"
   ]
  },
  {
   "cell_type": "code",
   "execution_count": 53,
   "metadata": {},
   "outputs": [
    {
     "data": {
      "text/plain": [
       "[('USC00519281', 2772, 85.0, 54.0, 71.66378066378067),\n",
       " ('USC00519397', 2724, 87.0, 56.0, 74.55323054331865),\n",
       " ('USC00513117', 2709, 85.0, 59.0, 72.68918420081211),\n",
       " ('USC00519523', 2669, 85.0, 56.0, 74.5436493068565),\n",
       " ('USC00516128', 2612, 84.0, 58.0, 70.91500765696784),\n",
       " ('USC00514830', 2202, 85.0, 58.0, 74.8732970027248),\n",
       " ('USC00511918', 1979, 87.0, 53.0, 71.61596766043456),\n",
       " ('USC00517948', 1372, 87.0, 58.0, 74.68440233236151),\n",
       " ('USC00518838', 511, 83.0, 58.0, 72.72407045009784)]"
      ]
     },
     "execution_count": 53,
     "metadata": {},
     "output_type": "execute_result"
    }
   ],
   "source": [
    "######   Temprature was used to identify the most active stations.\n",
    "\n",
    "# What are the most active stations? (i.e. what stations have the most rows)?\n",
    "# List the stations and the counts in descending order.\n",
    "dat = [MEASUR.station,\n",
    "       func.count(MEASUR.tobs),\n",
    "      func.max(MEASUR.tobs),\n",
    "      func.min(MEASUR.tobs),\n",
    "      func.avg(MEASUR.tobs)] \n",
    "\n",
    "obs_counts = session.query(*dat).\\\n",
    "    group_by(MEASUR.station).\\\n",
    "    order_by(func.count(MEASUR.tobs).desc()).all()\n",
    "obs_counts"
   ]
  },
  {
   "cell_type": "code",
   "execution_count": 54,
   "metadata": {},
   "outputs": [
    {
     "name": "stdout",
     "output_type": "stream",
     "text": [
      "Most active statons high to low\n",
      "\n",
      "Total number of stations 9\n",
      "********************************\n",
      "********************************\n",
      " Station ID:        USC00519281\n",
      " # observaitons:    2772\n",
      " High temprature:   85.0 Fahrenheit\n",
      " Low temprature:    54.0 Fahrenheit\n",
      " Ave temprature:    71.7 Fahrenheit\n",
      "********************************\n",
      " Station ID:        USC00519397\n",
      " # observaitons:    2724\n",
      " High temprature:   87.0 Fahrenheit\n",
      " Low temprature:    56.0 Fahrenheit\n",
      " Ave temprature:    74.6 Fahrenheit\n",
      "********************************\n",
      " Station ID:        USC00513117\n",
      " # observaitons:    2709\n",
      " High temprature:   85.0 Fahrenheit\n",
      " Low temprature:    59.0 Fahrenheit\n",
      " Ave temprature:    72.7 Fahrenheit\n",
      "********************************\n",
      " Station ID:        USC00519523\n",
      " # observaitons:    2669\n",
      " High temprature:   85.0 Fahrenheit\n",
      " Low temprature:    56.0 Fahrenheit\n",
      " Ave temprature:    74.5 Fahrenheit\n",
      "********************************\n",
      " Station ID:        USC00516128\n",
      " # observaitons:    2612\n",
      " High temprature:   84.0 Fahrenheit\n",
      " Low temprature:    58.0 Fahrenheit\n",
      " Ave temprature:    70.9 Fahrenheit\n",
      "********************************\n",
      " Station ID:        USC00514830\n",
      " # observaitons:    2202\n",
      " High temprature:   85.0 Fahrenheit\n",
      " Low temprature:    58.0 Fahrenheit\n",
      " Ave temprature:    74.9 Fahrenheit\n",
      "********************************\n",
      " Station ID:        USC00511918\n",
      " # observaitons:    1979\n",
      " High temprature:   87.0 Fahrenheit\n",
      " Low temprature:    53.0 Fahrenheit\n",
      " Ave temprature:    71.6 Fahrenheit\n",
      "********************************\n",
      " Station ID:        USC00517948\n",
      " # observaitons:    1372\n",
      " High temprature:   87.0 Fahrenheit\n",
      " Low temprature:    58.0 Fahrenheit\n",
      " Ave temprature:    74.7 Fahrenheit\n",
      "********************************\n",
      " Station ID:        USC00518838\n",
      " # observaitons:    511\n",
      " High temprature:   83.0 Fahrenheit\n",
      " Low temprature:    58.0 Fahrenheit\n",
      " Ave temprature:    72.7 Fahrenheit\n",
      "********************************\n"
     ]
    }
   ],
   "source": [
    "#  Same as above with labels\n",
    "print(f\"Most active statons high to low\\n\")\n",
    "print(f\"Total number of stations {len(obs_counts)}\")\n",
    "print(f\"********************************\")\n",
    "print(f\"********************************\")\n",
    "for obs in obs_counts:\n",
    "    unpack(*obs)\n",
    "    print(f\"********************************\")"
   ]
  },
  {
   "cell_type": "code",
   "execution_count": 63,
   "metadata": {},
   "outputs": [
    {
     "data": {
      "text/plain": [
       "[('USC00519397', 360, 87.0, 60.0, 75.19444444444444),\n",
       " ('USC00519281', 351, 83.0, 59.0, 73.0968660968661),\n",
       " ('USC00516128', 348, 82.0, 58.0, 72.08620689655173),\n",
       " ('USC00513117', 342, 82.0, 61.0, 73.26900584795321),\n",
       " ('USC00519523', 336, 85.0, 60.0, 76.96130952380952),\n",
       " ('USC00514830', 304, 83.0, 63.0, 77.15131578947368),\n",
       " ('USC00517948', 182, 87.0, 62.0, 74.75274725274726)]"
      ]
     },
     "execution_count": 63,
     "metadata": {},
     "output_type": "execute_result"
    }
   ],
   "source": [
    "# Using the station id from the previous query, calculate the lowest temperature recorded, \n",
    "# highest temperature recorded, and average temperature of the most active station?\n",
    "\n",
    "# Calculates the stats for the most active station Stats Using query\n",
    "\n",
    "most_active_stats = session.query(*dat).\\\n",
    "    filter(func.strftime(MEASUR.date) > query_date).\\\n",
    "    group_by(MEASUR.station).\\\n",
    "    order_by(func.count(MEASUR.tobs).desc()).all()\n",
    "\n",
    "#unpack(*most_active_stats)\n",
    "#most_active_stats"
   ]
  },
  {
   "cell_type": "code",
   "execution_count": 75,
   "metadata": {},
   "outputs": [
    {
     "ename": "TypeError",
     "evalue": "unpack() missing 4 required positional arguments: 'num_ob', 'temp_max', 'temp_low', and 'temp_ave'",
     "output_type": "error",
     "traceback": [
      "\u001b[1;31m---------------------------------------------------------------------------\u001b[0m",
      "\u001b[1;31mTypeError\u001b[0m                                 Traceback (most recent call last)",
      "\u001b[1;32m<ipython-input-75-76c3e3fd8a10>\u001b[0m in \u001b[0;36m<module>\u001b[1;34m\u001b[0m\n\u001b[0;32m     10\u001b[0m     \u001b[0morder_by\u001b[0m\u001b[1;33m(\u001b[0m\u001b[0mfunc\u001b[0m\u001b[1;33m.\u001b[0m\u001b[0mcount\u001b[0m\u001b[1;33m(\u001b[0m\u001b[0mMEASUR\u001b[0m\u001b[1;33m.\u001b[0m\u001b[0mtobs\u001b[0m\u001b[1;33m)\u001b[0m\u001b[1;33m.\u001b[0m\u001b[0mdesc\u001b[0m\u001b[1;33m(\u001b[0m\u001b[1;33m)\u001b[0m\u001b[1;33m)\u001b[0m\u001b[1;33m.\u001b[0m\u001b[0mall\u001b[0m\u001b[1;33m(\u001b[0m\u001b[1;33m)\u001b[0m\u001b[1;33m\u001b[0m\u001b[1;33m\u001b[0m\u001b[0m\n\u001b[0;32m     11\u001b[0m \u001b[1;33m\u001b[0m\u001b[0m\n\u001b[1;32m---> 12\u001b[1;33m \u001b[0munpack\u001b[0m\u001b[1;33m(\u001b[0m\u001b[1;33m*\u001b[0m\u001b[0mmost_active_stats\u001b[0m\u001b[1;33m)\u001b[0m\u001b[1;33m\u001b[0m\u001b[1;33m\u001b[0m\u001b[0m\n\u001b[0m\u001b[0;32m     13\u001b[0m \u001b[0mmost_active_stats\u001b[0m\u001b[1;33m\u001b[0m\u001b[1;33m\u001b[0m\u001b[0m\n",
      "\u001b[1;31mTypeError\u001b[0m: unpack() missing 4 required positional arguments: 'num_ob', 'temp_max', 'temp_low', and 'temp_ave'"
     ]
    }
   ],
   "source": [
    "# Using the station id from the previous query, calculate the lowest temperature recorded, \n",
    "# highest temperature recorded, and average temperature of the most active station?\n",
    "\n",
    "# Calculates the stats for the most active station Stats Using query\n",
    "\n",
    "most_active_stats = session.query(*dat).\\\n",
    "    filter(MEASUR.station == \"USC00519281\").\\\n",
    "    filter(func.strftime(MEASUR.date) > query_date).\\\n",
    "    group_by(MEASUR.station).\\\n",
    "    order_by(func.count(MEASUR.tobs).desc()).all()\n",
    "\n",
    "unpack(*most_active_stats)\n",
    "most_active_stats"
   ]
  },
  {
   "cell_type": "code",
   "execution_count": null,
   "metadata": {
    "scrolled": true
   },
   "outputs": [],
   "source": [
    "##########################################################################\n",
    "########### GENERAL SNAP SHOT OF THE ISLAND           ####################\n",
    "########## Convert to datafram to visualize data from previous query\n",
    "#########  Create a snap shot of iland data\n",
    "station_stats_df = pd.DataFrame(obs_counts,columns=['station','#temp observed','temp max', \n",
    "                                    'temp min', 'temp ave'])\n",
    "############################################################################\n",
    "######### Idenifies the most active station by # of temps observed\n",
    "######### Merges two panda dataframes that were both constructed by querue funcitons\n",
    "act_station = pd.merge(station_stats_df, station_id_df, on='station', how='outer')\n",
    "act_station"
   ]
  },
  {
   "cell_type": "code",
   "execution_count": null,
   "metadata": {},
   "outputs": [],
   "source": [
    "#Data frame with stats from most active station recording the most data.\n",
    "#### confirms data from above\n",
    "most_act_station_stats= act_station.head(1)\n",
    "# Calculates the stats for the most active station Stats Using query in Data frame\n",
    "most_act_station_stats"
   ]
  },
  {
   "cell_type": "code",
   "execution_count": null,
   "metadata": {},
   "outputs": [],
   "source": [
    "# Clean data\n",
    "most_act_station = most_act_station_stats[\"station\"].values\n",
    "print(most_act_station)\n",
    "most_act_station = ','.join(most_act_station)\n",
    "print(most_act_station)"
   ]
  },
  {
   "cell_type": "code",
   "execution_count": null,
   "metadata": {},
   "outputs": [],
   "source": [
    "# Choose the station with the highest number of temperature observations.\n",
    "# Query the last 12 months of temperature observation data for this station and plot the results as a histogram\n",
    "temp_dat = [MEASUR.station,\n",
    "           MEASUR.tobs,MEASUR.date] \n",
    "\n",
    "temp_data = session.query(*temp_dat).\\\n",
    "    filter(MEASUR.date > query_date).\\\n",
    "    filter(MEASUR.station == most_act_station)\n",
    "    \n",
    "waik_df = pd.DataFrame(temp_data)\n",
    "#waik_df"
   ]
  },
  {
   "cell_type": "code",
   "execution_count": null,
   "metadata": {},
   "outputs": [],
   "source": [
    "# Query the last 12 months of temperature observation data for this station and plot the results as a histogram\n",
    "waik_df.plot(kind='hist',\n",
    "        alpha=1.0,\n",
    "        bins=12,\n",
    "        title='Observed Tempratures at WAIKIKI HI',\n",
    "        rot=90,\n",
    "        grid=True,\n",
    "        figsize=(12,8),\n",
    "        fontsize=15,\n",
    "        legend ='temp',\n",
    "        color=['#A0E8AF'])\n",
    "plt.xlabel('Tempratue\\nFahrenheit')\n",
    "plt.ylabel(\"Number of\\nObservations\");"
   ]
  },
  {
   "cell_type": "code",
   "execution_count": null,
   "metadata": {},
   "outputs": [],
   "source": [
    "waik_df.describe()"
   ]
  },
  {
   "cell_type": "code",
   "execution_count": null,
   "metadata": {},
   "outputs": [],
   "source": [
    "waik_df"
   ]
  },
  {
   "cell_type": "markdown",
   "metadata": {},
   "source": [
    "## Bonus Challenge Assignment"
   ]
  },
  {
   "cell_type": "code",
   "execution_count": null,
   "metadata": {},
   "outputs": [],
   "source": [
    "# This function called `calc_temps` will accept start date and end date in the format '%Y-%m-%d' \n",
    "# and return the minimum, average, and maximum temperatures for that range of dates\n",
    "def calc_temps(start_date, end_date):\n",
    "    \"\"\"TMIN, TAVG, and TMAX for a list of dates.\n",
    "    \n",
    "    Args:\n",
    "        start_date (string): A date string in the format %Y-%m-%d\n",
    "        end_date (string): A date string in the format %Y-%m-%d\n",
    "        \n",
    "    Returns:\n",
    "        TMIN, TAVE, and TMAX\n",
    "    \"\"\"\n",
    "    \n",
    "    return session.query(func.min(Measurement.tobs), func.avg(Measurement.tobs), func.max(Measurement.tobs)).\\\n",
    "        filter(Measurement.date >= start_date).filter(Measurement.date <= end_date).all()\n",
    "\n",
    "# function usage example\n",
    "print(calc_temps('2012-02-28', '2012-03-05'))"
   ]
  },
  {
   "cell_type": "code",
   "execution_count": null,
   "metadata": {},
   "outputs": [],
   "source": [
    "# Use your previous function `calc_temps` to calculate the tmin, tavg, and tmax \n",
    "# for your trip using the previous year's data for those same dates.\n"
   ]
  },
  {
   "cell_type": "code",
   "execution_count": null,
   "metadata": {},
   "outputs": [],
   "source": [
    "# Plot the results from your previous query as a bar chart. \n",
    "# Use \"Trip Avg Temp\" as your Title\n",
    "# Use the average temperature for the y value\n",
    "# Use the peak-to-peak (tmax-tmin) value as the y error bar (yerr)\n"
   ]
  },
  {
   "cell_type": "code",
   "execution_count": null,
   "metadata": {},
   "outputs": [],
   "source": [
    "# Calculate the total amount of rainfall per weather station for your trip dates using the previous year's matching dates.\n",
    "# Sort this in descending order by precipitation amount and list the station, name, latitude, longitude, and elevation\n",
    "\n"
   ]
  },
  {
   "cell_type": "code",
   "execution_count": null,
   "metadata": {},
   "outputs": [],
   "source": [
    "# Create a query that will calculate the daily normals \n",
    "# (i.e. the averages for tmin, tmax, and tavg for all historic data matching a specific month and day)\n",
    "\n",
    "def daily_normals(date):\n",
    "    \"\"\"Daily Normals.\n",
    "    \n",
    "    Args:\n",
    "        date (str): A date string in the format '%m-%d'\n",
    "        \n",
    "    Returns:\n",
    "        A list of tuples containing the daily normals, tmin, tavg, and tmax\n",
    "    \n",
    "    \"\"\"\n",
    "    \n",
    "    sel = [func.min(Measurement.tobs), func.avg(Measurement.tobs), func.max(Measurement.tobs)]\n",
    "    return session.query(*sel).filter(func.strftime(\"%m-%d\", Measurement.date) == date).all()\n",
    "    \n",
    "daily_normals(\"01-01\")"
   ]
  },
  {
   "cell_type": "code",
   "execution_count": null,
   "metadata": {},
   "outputs": [],
   "source": [
    "# calculate the daily normals for your trip\n",
    "# push each tuple of calculations into a list called `normals`\n",
    "\n",
    "# Set the start and end date of the trip\n",
    "\n",
    "# Use the start and end date to create a range of dates\n",
    "\n",
    "# Stip off the year and save a list of %m-%d strings\n",
    "\n",
    "# Loop through the list of %m-%d strings and calculate the normals for each date\n"
   ]
  },
  {
   "cell_type": "code",
   "execution_count": null,
   "metadata": {},
   "outputs": [],
   "source": [
    "# Load the previous query results into a Pandas DataFrame and add the `trip_dates` range as the `date` index\n"
   ]
  },
  {
   "cell_type": "code",
   "execution_count": null,
   "metadata": {},
   "outputs": [],
   "source": [
    "# Plot the daily normals as an area plot with `stacked=False`\n"
   ]
  }
 ],
 "metadata": {
  "kernel_info": {
   "name": "python3"
  },
  "kernelspec": {
   "display_name": "Python [conda env:PythonData]",
   "language": "python",
   "name": "conda-env-PythonData-py"
  },
  "language_info": {
   "codemirror_mode": {
    "name": "ipython",
    "version": 3
   },
   "file_extension": ".py",
   "mimetype": "text/x-python",
   "name": "python",
   "nbconvert_exporter": "python",
   "pygments_lexer": "ipython3",
   "version": "3.6.10"
  },
  "nteract": {
   "version": "0.12.3"
  },
  "varInspector": {
   "cols": {
    "lenName": 16,
    "lenType": 16,
    "lenVar": 40
   },
   "kernels_config": {
    "python": {
     "delete_cmd_postfix": "",
     "delete_cmd_prefix": "del ",
     "library": "var_list.py",
     "varRefreshCmd": "print(var_dic_list())"
    },
    "r": {
     "delete_cmd_postfix": ") ",
     "delete_cmd_prefix": "rm(",
     "library": "var_list.r",
     "varRefreshCmd": "cat(var_dic_list()) "
    }
   },
   "types_to_exclude": [
    "module",
    "function",
    "builtin_function_or_method",
    "instance",
    "_Feature"
   ],
   "window_display": false
  }
 },
 "nbformat": 4,
 "nbformat_minor": 2
}
